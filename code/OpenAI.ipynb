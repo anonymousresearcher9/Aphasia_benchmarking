{
 "cells": [
  {
   "metadata": {},
   "cell_type": "markdown",
   "source": [
    "## Large Language Model Experiment: Using gpt-3.5-turbo\n",
    "\n",
    "This experiment evaluates the performance of the gpt-3.5-turbo model on the multiclass aphasia classification task.\n",
    "\n",
    "Unlike traditional machine learning models that rely on explicit feature engineering or transformer-based classifiers trained end-to-end, gpt-3.5-turbo is used here in a zero-shot or few-shot setting to directly predict aphasia subtypes based on full patient utterances.\n",
    "\n",
    " The prompt design was carefully structured to include task-specific instructions and representative examples when applicable. This LLM-based evaluation complements the benchmarking study by offering insight into the capabilities of foundation models on clinical text with limited labeled data and subtle syntactic distinctions."
   ],
   "id": "59f873c4dc58c92a"
  },
  {
   "metadata": {},
   "cell_type": "code",
   "outputs": [],
   "execution_count": 1,
   "source": [
    "import pandas as pd\n",
    "import io\n",
    "import os\n",
    "from openai import OpenAI\n",
    "import pandas as pd\n",
    "import time\n",
    "import re\n",
    "from sklearn.metrics import balanced_accuracy_score, precision_score, recall_score, f1_score, confusion_matrix, ConfusionMatrixDisplay\n",
    "import matplotlib.pyplot as plt\n"
   ],
   "id": "84a15dbf-9f42-41b6-ba03-1a399d3b05bb"
  },
  {
   "cell_type": "code",
   "id": "bcf40c15-b25e-4e4f-aed4-a6cdcd5b7378",
   "metadata": {
    "ExecuteTime": {
     "end_time": "2025-05-08T08:37:23.717654Z",
     "start_time": "2025-05-08T08:37:23.714715Z"
    }
   },
   "source": "# import data here",
   "outputs": [],
   "execution_count": 1
  },
  {
   "metadata": {},
   "cell_type": "code",
   "outputs": [],
   "execution_count": null,
   "source": [
    "# initialize the OpenAI client\n",
    "client = OpenAI(api_key= \"add your key here\")\n",
    "\n",
    "# define the classification function\n",
    "def classify_text(text):\n",
    "    # define the system message\n",
    "    system_message = {\n",
    "        \"role\": \"system\",\n",
    "        \"content\": \"\"\"You are a clinical text classifier specializing in language and speech characteristics related to Primary Progressive Aphasia (PPA). Based on the provided interview transcript of a patient, classify the text into one of the following categories:\n",
    "\n",
    "        - **lvPPA**: Logopenic Variant, Characterized by word-finding difficulties and impaired repetition abilities. Patients may frequently pause or hesitate as they search for words, and they may struggle to repeat phrases accurately.\n",
    "          - **Example**: Patient might say, “I went to the… um… place where… you know, people get… books,” when trying to say \"library.\" They may also struggle to repeat phrases accurately, often omitting words or stumbling.\n",
    "        - **svPPA**: Semantic Variant, Primarily affects the understanding of word meanings (semantic knowledge). Patients may struggle with naming and comprehension, even for common objects. They often resort to broad categories instead of precise words (e.g., thing instead of fork)\n",
    "          - **Example**: When shown a picture of a dog, the patient might say, “It’s an animal… I think it’s a pet,” without being able to retrieve the word \"dog.\" They may also have difficulty understanding specific terms, relying on broader descriptions.\n",
    "        - **nfvPPA**: Impacts grammar and speech production, leading to slow, effortful, and agrammatic speech. Patients may omit small grammatical words (e.g., “is,” “the”) and speak in a telegraphic manner. Patients tend to use very short sentences, a rich vocabulary with low-frequency words, and more nouns compared to verbs.\n",
    "          - **Example**: The patient might say, “Walk… store… buy milk,” instead of “I’m going to walk to the store to buy milk.” Speech is often halting and labor-intensive, with noticeable pauses.\n",
    "        - **control**: The individual demonstrates fluent, grammatically correct speech, free from any markers of hesitation, effortful speech, or semantic impairment. There are no indications of word-finding difficulties or grammatical errors. The individual uses both simple and complex sentences naturally and appropriately. They can express themselves clearly without notable pauses, hesitations, or substitutions. The vocabulary used is appropriate for the context, and their language comprehension and responses are cohesive.\n",
    "          - **Example**: “I’m going to walk to the store to buy some milk” or “After I finish work, I plan to go for a walk and then cook dinner.” The language is fluent, natural, and demonstrates coherent sentence-building abilities.\n",
    "        Analyze the language, sentence structure, vocabulary, and speech flow within the conversational context of the interview to determine the most fitting category. Your response should include only one of the following labels: **lvPPA**, **svPPA**, **nfvPPA**, or **control**, if the text does not clearly fit into one category, analyze it carefully and suggest the most likely category based on available evidence.\"\"\"\n",
    "        }\n",
    "\n",
    "    # define the user message\n",
    "    user_message = {\"role\": \"user\", \"content\": text}\n",
    "\n",
    "    # combine system and user messages into the conversation\n",
    "    messages = [system_message, user_message]\n",
    "\n",
    "    # make the API call\n",
    "    response = client.chat.completions.create(\n",
    "        model=\"gpt-3.5-turbo\",\n",
    "        messages=messages,\n",
    "        temperature=0.7  # adjust temperature as needed\n",
    "    )\n",
    "\n",
    "    # extract the classification\n",
    "    classification = response.choices[0].message.content.strip()\n",
    "    print(\"Classification:\", classification)\n",
    "    return classification\n",
    "\n",
    "\n",
    "results = []\n",
    "for i, text in enumerate(df['Text']):\n",
    "    classification = classify_text(text)\n",
    "    results.append(classification)\n",
    "    time.sleep(20)  # delay to comply with rate limits\n",
    "\n",
    "# add results to the DataFrame\n",
    "df['PredictedLabel'] = results\n",
    "\n",
    "# save the DataFrame\n",
    "df.to_csv(\"classified_results_with_delay.csv\", index=False)"
   ],
   "id": "c92d6ab366d05f40"
  },
  {
   "cell_type": "code",
   "execution_count": 4,
   "id": "c8b86ff6-7283-4526-9249-b2e8e5e9a984",
   "metadata": {},
   "outputs": [],
   "source": [
    "# define a function to clean up the predictions\n",
    "def clean_classification(pred):\n",
    "    # match only the valid classification labels\n",
    "    match = re.search(r\"\\b(control|lvPPA|svPPA|nfvPPA)\\b\", pred, re.IGNORECASE)\n",
    "    if match:\n",
    "        return match.group(1)  # return the clean label\n",
    "    else:\n",
    "        return \"Unclear\"  # default for unexpected outputs\n",
    "\n",
    "# apply the cleaning function to the PredictedLabel column\n",
    "df['CleanedPredictedLabel'] = df['PredictedLabel'].apply(clean_classification)\n"
   ]
  },
  {
   "cell_type": "code",
   "execution_count": 5,
   "id": "aa792dd5-4b71-4a95-830b-2e0e1c032cf3",
   "metadata": {},
   "outputs": [
    {
     "name": "stdout",
     "output_type": "stream",
     "text": [
      "Subtype\n",
      "control    53\n",
      "nfvppa     29\n",
      "lvppa      26\n",
      "svppa      24\n",
      "Name: count, dtype: int64\n",
      "CleanedPredictedLabel\n",
      "control    74\n",
      "nfvppa     47\n",
      "svppa       8\n",
      "lvppa       3\n",
      "Name: count, dtype: int64\n"
     ]
    }
   ],
   "source": [
    "df['Subtype'] = df['Subtype'].str.lower()\n",
    "df['CleanedPredictedLabel'] = df['CleanedPredictedLabel'].str.lower()\n",
    "true_labels = df['Subtype']  # ground truth labels\n",
    "predicted_labels = df['CleanedPredictedLabel']  # predicted labels (cleaned)\n",
    "# verify that labels are consistent\n",
    "print(true_labels.value_counts())\n",
    "print(predicted_labels.value_counts())"
   ]
  },
  {
   "cell_type": "code",
   "execution_count": 6,
   "id": "79ad1333-d900-4528-bcef-98561fc5f731",
   "metadata": {},
   "outputs": [
    {
     "name": "stdout",
     "output_type": "stream",
     "text": [
      "Balanced Accuracy: 0.3822704485928298\n",
      "Precision (weighted): 0.4424209025272855\n",
      "Recall (weighted): 0.5\n",
      "F1 Score (weighted): 0.42708296795353967\n"
     ]
    }
   ],
   "source": [
    "balanced_acc = balanced_accuracy_score(true_labels, predicted_labels)\n",
    "\n",
    "precision = precision_score(true_labels, predicted_labels, average='weighted')\n",
    "\n",
    "recall = recall_score(true_labels, predicted_labels, average='weighted')\n",
    "\n",
    "f1 = f1_score(true_labels, predicted_labels, average='weighted')\n",
    "\n",
    "# confusion Matrix\n",
    "cm = confusion_matrix(true_labels, predicted_labels, labels=['control', 'lvppa', 'svppa', 'nfvppa'])\n",
    "\n",
    "# print Metrics\n",
    "print(\"Balanced Accuracy:\", balanced_acc)\n",
    "print(\"Precision (weighted):\", precision)\n",
    "print(\"Recall (weighted):\", recall)\n",
    "print(\"F1 Score (weighted):\", f1)\n"
   ]
  },
  {
   "cell_type": "code",
   "execution_count": 32,
   "id": "fb166164-cded-4542-be40-11a97b565d39",
   "metadata": {},
   "outputs": [
    {
     "data": {
      "image/png": "[encoded data removed]",
      "text/plain": [
       "<Figure size 640x480 with 2 Axes>"
      ]
     },
     "metadata": {},
     "output_type": "display_data"
    }
   ],
   "source": [
    "\n",
    "# display the confusion matrix\n",
    "disp = ConfusionMatrixDisplay(confusion_matrix=cm, display_labels=['control', 'lvppa', 'svppa', 'nfvppa'])\n",
    "disp.plot(cmap='viridis', xticks_rotation=45)\n",
    "plt.title(\"Confusion Matrix\")\n",
    "plt.show()\n"
   ]
  },
  {
   "cell_type": "code",
   "execution_count": null,
   "id": "0475ed45-5225-44aa-a10a-8ebdbaed93ff",
   "metadata": {},
   "outputs": [],
   "source": []
  }
 ],
 "metadata": {
  "kernelspec": {
   "display_name": "Python 3 (ipykernel)",
   "language": "python",
   "name": "python3"
  },
  "language_info": {
   "codemirror_mode": {
    "name": "ipython",
    "version": 3
   },
   "file_extension": ".py",
   "mimetype": "text/x-python",
   "name": "python",
   "nbconvert_exporter": "python",
   "pygments_lexer": "ipython3",
   "version": "3.13.0"
  }
 },
 "nbformat": 4,
 "nbformat_minor": 5
}

{
 "cells": [
  {
   "metadata": {},
   "cell_type": "markdown",
   "source": [
    "## Large Language Model Experiment: Using Mistral\n",
    "\n",
    "This experiment evaluates the performance of Mistral-7B model on the multiclass aphasia classification task.\n",
    "\n",
    "Unlike traditional machine learning models that rely on explicit feature engineering or transformer-based classifiers trained end-to-end, Mistral is used here in a zero-shot or few-shot setting to directly predict aphasia subtypes based on full patient utterances.\n",
    "\n",
    " The prompt design was carefully structured to include task-specific instructions and representative examples when applicable. This LLM-based evaluation complements the benchmarking study by offering insight into the capabilities of foundation models on clinical text with limited labeled data and subtle syntactic distinctions."
   ],
   "id": "fae26d6bf937a77d"
  },
  {
   "metadata": {},
   "cell_type": "code",
   "outputs": [],
   "execution_count": 1,
   "source": [
    "import pandas as pd\n",
    "import io\n",
    "import os\n",
    "from transformers import pipeline\n",
    "import torch"
   ],
   "id": "c8a89cf0-2cf7-4b1d-86cd-83c7b22ed58a"
  },
  {
   "cell_type": "code",
   "id": "d3128f0b-b670-487e-8974-7ce1ac8150b3",
   "metadata": {
    "ExecuteTime": {
     "end_time": "2025-05-08T08:29:07.688967Z",
     "start_time": "2025-05-08T08:29:07.687397Z"
    }
   },
   "source": "# import data here",
   "outputs": [],
   "execution_count": 1
  },
  {
   "cell_type": "code",
   "execution_count": 3,
   "id": "f6e0c505-a1b2-483c-a796-db6c37850839",
   "metadata": {},
   "outputs": [
    {
     "data": {
      "text/plain": [
       "Subtype\n",
       "control    53\n",
       "nfvPPA     29\n",
       "lvPPA      26\n",
       "svPPA      24\n",
       "Name: count, dtype: int64"
      ]
     },
     "execution_count": 3,
     "metadata": {},
     "output_type": "execute_result"
    }
   ],
   "source": [
    "df['Subtype'].value_counts()"
   ]
  },
  {
   "cell_type": "code",
   "execution_count": 4,
   "id": "dc420837-4ed5-4b76-b5e3-1e3a9943ae6f",
   "metadata": {},
   "outputs": [
    {
     "data": {
      "application/vnd.jupyter.widget-view+json": {
       "model_id": "dcf6321206d6436f8ed35e383ba7cbd9",
       "version_major": 2,
       "version_minor": 0
      },
      "text/plain": [
       "VBox(children=(HTML(value='<center> <img\\nsrc=https://huggingface.co/front/assets/huggingface_logo-noborder.sv…"
      ]
     },
     "metadata": {},
     "output_type": "display_data"
    }
   ],
   "source": [
    "from huggingface_hub import notebook_login\n",
    "notebook_login()"
   ]
  },
  {
   "cell_type": "code",
   "execution_count": 5,
   "id": "9a34f619-efa9-450e-91d4-66840bdcc658",
   "metadata": {},
   "outputs": [
    {
     "data": {
      "application/vnd.jupyter.widget-view+json": {
       "model_id": "91da5fb108954afeb5942167dae706a4",
       "version_major": 2,
       "version_minor": 0
      },
      "text/plain": [
       "Loading checkpoint shards:   0%|          | 0/3 [00:00<?, ?it/s]"
      ]
     },
     "metadata": {},
     "output_type": "display_data"
    }
   ],
   "source": [
    "\n",
    "model_id = \"mistralai/Mistral-7B-Instruct-v0.2\"\n",
    "pipeline = pipeline(\n",
    "    \"text-generation\",\n",
    "    model=model_id,\n",
    "    model_kwargs={\"torch_dtype\": torch.bfloat16},\n",
    "    device_map=\"auto\",\n",
    ")\n"
   ]
  },
  {
   "cell_type": "code",
   "execution_count": 6,
   "id": "c35c5c83-2875-4af3-aa35-fe72a644252b",
   "metadata": {},
   "outputs": [],
   "source": [
    "# Define the system message for a classifier role\n",
    "system_message = {\n",
    "    \"role\": \"system\",\n",
    "    \"content\": \"\"\"You are a clinical text classifier specializing in language and speech characteristics related to Primary Progressive Aphasia (PPA). Based on the provided interview transcript of a patient, classify the text into one of the following categories:\n",
    "\n",
    "- **lvPPA**: Logopenic Variant, Characterized by word-finding difficulties and impaired repetition abilities. Patients may frequently pause or hesitate as they search for words, and they may struggle to repeat phrases accurately.\n",
    "  - **Example**: Patient might say, “I went to the… um… place where… you know, people get… books,” when trying to say \"library.\" They may also struggle to repeat phrases accurately, often omitting words or stumbling.\n",
    "- **svPPA**: Semantic Variant, Primarily affects the understanding of word meanings (semantic knowledge). Patients may struggle with naming and comprehension, even for common objects. They often resort to broad categories instead of precise words (e.g., thing instead of fork)\n",
    "  - **Example**: When shown a picture of a dog, the patient might say, “It’s an animal… I think it’s a pet,” without being able to retrieve the word \"dog.\" They may also have difficulty understanding specific terms, relying on broader descriptions.\n",
    "- **nfvPPA**: Impacts grammar and speech production, leading to slow, effortful, and agrammatic speech. Patients may omit small grammatical words (e.g., “is,” “the”) and speak in a telegraphic manner. Patients tend to use very short sentences, a rich vocabulary with low-frequency words, and more nouns compared to verbs.\n",
    "  - **Example**: The patient might say, “Walk… store… buy milk,” instead of “I’m going to walk to the store to buy milk.” Speech is often halting and labor-intensive, with noticeable pauses.\n",
    "- **control**: The individual demonstrates fluent, grammatically correct speech, free from any markers of hesitation, effortful speech, or semantic impairment. There are no indications of word-finding difficulties or grammatical errors. The individual uses both simple and complex sentences naturally and appropriately. They can express themselves clearly without notable pauses, hesitations, or substitutions. The vocabulary used is appropriate for the context, and their language comprehension and responses are cohesive.\n",
    "  - **Example**: “I’m going to walk to the store to buy some milk” or “After I finish work, I plan to go for a walk and then cook dinner.” The language is fluent, natural, and demonstrates coherent sentence-building abilities.\n",
    "Analyze the language, sentence structure, vocabulary, and speech flow within the conversational context of the interview to determine the most fitting category. Your response should include only one of the following labels: **lvPPA**, **svPPA**, **nfvPPA**, or **control**, if the text does not clearly fit into one category, analyze it carefully and suggest the most likely category based on available evidence.\"\"\"\n",
    "}"
   ]
  },
  {
   "cell_type": "code",
   "execution_count": 7,
   "id": "157b38ae-bfce-4cb5-9a0e-057129aac54b",
   "metadata": {},
   "outputs": [
    {
     "name": "stderr",
     "output_type": "stream",
     "text": [
      "Setting `pad_token_id` to `eos_token_id`:None for open-end generation.\n"
     ]
    },
    {
     "name": "stdout",
     "output_type": "stream",
     "text": [
      "Raw Output: [{'generated_text': [{'role': 'system', 'content': 'You are a clinical text classifier specializing in language and speech characteristics related to Primary Progressive Aphasia (PPA). Based on the provided interview transcript of a patient, classify the text into one of the following categories:\\n\\n- **lvPPA**: Logopenic Variant, Characterized by word-finding difficulties and impaired repetition abilities. Patients may frequently pause or hesitate as they search for words, and they may struggle to repeat phrases accurately.\\n  - **Example**: Patient might say, “I went to the… um… place where… you know, people get… books,” when trying to say \"library.\" They may also struggle to repeat phrases accurately, often omitting words or stumbling.\\n- **svPPA**: Semantic Variant, Primarily affects the understanding of word meanings (semantic knowledge). Patients may struggle with naming and comprehension, even for common objects. They often resort to broad categories instead of precise words (e.g., thing instead of fork)\\n  - **Example**: When shown a picture of a dog, the patient might say, “It’s an animal… I think it’s a pet,” without being able to retrieve the word \"dog.\" They may also have difficulty understanding specific terms, relying on broader descriptions.\\n- **nfvPPA**: Impacts grammar and speech production, leading to slow, effortful, and agrammatic speech. Patients may omit small grammatical words (e.g., “is,” “the”) and speak in a telegraphic manner. Patients tend to use very short sentences, a rich vocabulary with low-frequency words, and more nouns compared to verbs.\\n  - **Example**: The patient might say, “Walk… store… buy milk,” instead of “I’m going to walk to the store to buy milk.” Speech is often halting and labor-intensive, with noticeable pauses.\\n- **control**: The individual demonstrates fluent, grammatically correct speech, free from any markers of hesitation, effortful speech, or semantic impairment. There are no indications of word-finding difficulties or grammatical errors. The individual uses both simple and complex sentences naturally and appropriately. They can express themselves clearly without notable pauses, hesitations, or substitutions. The vocabulary used is appropriate for the context, and their language comprehension and responses are cohesive.\\n  - **Example**: “I’m going to walk to the store to buy some milk” or “After I finish work, I plan to go for a walk and then cook dinner.” The language is fluent, natural, and demonstrates coherent sentence-building abilities.\\nAnalyze the language, sentence structure, vocabulary, and speech flow within the conversational context of the interview to determine the most fitting category. Your response should include only one of the following labels: **lvPPA**, **svPPA**, **nfvPPA**, or **control**, if the text does not clearly fit into one category, analyze it carefully and suggest the most likely category based on available evidence.'}, {'role': 'user', 'content': 'Classify this text: Woman and a wife are sitting in a having a pic uhh. What do you do when you have things there.\\nThe kids are all playing out there.\\nThey live over there.\\nIt is a picnic over here.\\nThey may also be the people who own the boat there too.\\nThough they really hot stuff there.\\nThey probably would be over there rather than vice versa.\\nThis is clearly I mean obviously little boy is having a lot of fun making a mess there.\\nThe little girl here built a little tower thing.\\nSomebody looks like in boy scouts this building something a some I mean fish.\\nThat was a fish.\\nIf you look more there is other things.\\nThis guy over here is barefoot.\\nBecause he has got these outside depends.\\n'}, {'role': 'assistant', 'content': \" Based on the provided text, the patient demonstrates some hesitation and difficulty in articulating certain words and constructing grammatically correct sentences. However, the patient does not exhibit significant word-finding difficulties or impairment in semantic knowledge. Instead, the speech is characterized by a telegraphic style, with a focus on nouns and a tendency to omit small grammatical words.\\n\\nTherefore, the most likely category for this text is **nfvPPA** (Non-Fluent Variant, Progressive Aphasia). The patient's speech is slow, effortful, and agrammatic, with noticeable pauses and labor-intensive sentence construction. The use of a rich\"}]}]\n",
      "Assistant Content:  Based on the provided text, the patient demonstrates some hesitation and difficulty in articulating certain words and constructing grammatically correct sentences. However, the patient does not exhibit significant word-finding difficulties or impairment in semantic knowledge. Instead, the speech is characterized by a telegraphic style, with a focus on nouns and a tendency to omit small grammatical words.\n",
      "\n",
      "Therefore, the most likely category for this text is **nfvPPA** (Non-Fluent Variant, Progressive Aphasia). The patient's speech is slow, effortful, and agrammatic, with noticeable pauses and labor-intensive sentence construction. The use of a rich\n",
      "Predicted label: nfvPPA\n"
     ]
    }
   ],
   "source": [
    "def classify_text(text):\n",
    "    messages = [\n",
    "        system_message,\n",
    "        {\"role\": \"user\", \"content\": f\"Classify this text: {text}\"}\n",
    "    ]\n",
    "    \n",
    "    # use a single EOS token ID\n",
    "    eos_token_id = pipeline.tokenizer.eos_token_id\n",
    "    \n",
    "    # run the classification\n",
    "    output = pipeline(\n",
    "        messages,\n",
    "        max_new_tokens=150,\n",
    "        eos_token_id=eos_token_id,\n",
    "        do_sample=True,\n",
    "        temperature=0.2,\n",
    "        top_p=0.9,\n",
    "    )\n",
    "    \n",
    "    # print raw output for debugging\n",
    "    print(\"Raw Output:\", output)\n",
    "    \n",
    "    # extract the generated label\n",
    "    try:\n",
    "        # extract assistant content\n",
    "        assistant_content = output[0][\"generated_text\"][-1][\"content\"]\n",
    "        \n",
    "        print(\"Assistant Content:\", assistant_content)\n",
    "        \n",
    "        # parse the label\n",
    "        label = \"Unknown\"\n",
    "        if \"**\" in assistant_content:\n",
    "            parts = assistant_content.split(\"**\")\n",
    "            if len(parts) > 1:\n",
    "                label = parts[1].strip().split()[0]\n",
    "    except (IndexError, KeyError, TypeError) as e:\n",
    "        print(f\"Error extracting label: {e}\")\n",
    "    \n",
    "    return label"
   ]
  },
  {
   "metadata": {},
   "cell_type": "code",
   "outputs": [],
   "execution_count": null,
   "source": "df['PredictedLabel'] = df['Text'].apply(lambda text: classify_text(text))",
   "id": "3c476b433bf38e20"
  },
  {
   "cell_type": "code",
   "execution_count": 13,
   "id": "3c6c09f1-a6d7-4d67-b0bd-ba4887e8d985",
   "metadata": {},
   "outputs": [
    {
     "name": "stdout",
     "output_type": "stream",
     "text": [
      "F1 Score (weighted): 0.1418753068237604\n",
      "Balanced Accuracy: 0.08687106918238993\n",
      "Precision (weighted): 0.21866391184573003\n",
      "Recall (weighted): 0.12121212121212122\n"
     ]
    },
    {
     "name": "stderr",
     "output_type": "stream",
     "text": [
      "/home/ghofrane/anaconda3/envs/ppa/lib/python3.13/site-packages/sklearn/metrics/_classification.py:2480: UserWarning: y_pred contains classes not in y_true\n",
      "  warnings.warn(\"y_pred contains classes not in y_true\")\n"
     ]
    }
   ],
   "source": [
    "from sklearn.metrics import f1_score, balanced_accuracy_score, roc_auc_score, precision_score, recall_score, classification_report\n",
    "import pandas as pd\n",
    "\n",
    "true_labels = df['Subtype'] \n",
    "predicted_labels = df['PredictedLabel']  \n",
    "\n",
    "true_labels = true_labels.astype(str)\n",
    "predicted_labels = predicted_labels.astype(str)\n",
    "\n",
    "\n",
    "# Compute F1-score (macro-averaged)\n",
    "f1 = f1_score(true_labels, predicted_labels, average='weighted', zero_division=0)\n",
    "\n",
    "# Compute balanced accuracy\n",
    "balanced_acc = balanced_accuracy_score(true_labels, predicted_labels)\n",
    "\n",
    "# Compute precision (macro-averaged)\n",
    "precision = precision_score(true_labels, predicted_labels, average='weighted', zero_division=0)\n",
    "\n",
    "# Compute recall (macro-averaged)\n",
    "recall = recall_score(true_labels, predicted_labels, average='weighted', zero_division=0)\n",
    "\n",
    "# Print results\n",
    "print(\"F1 Score (weighted):\", f1)\n",
    "print(\"Balanced Accuracy:\", balanced_acc)\n",
    "print(\"Precision (weighted):\", precision)\n",
    "print(\"Recall (weighted):\", recall)\n"
   ]
  },
  {
   "cell_type": "code",
   "execution_count": 12,
   "id": "639e92e2-3963-4ffa-a408-37bc7cdf016f",
   "metadata": {},
   "outputs": [
    {
     "name": "stdout",
     "output_type": "stream",
     "text": [
      "Balanced Accuracy (nfvPPA): 0.42\n",
      "Balanced Accuracy (lvPPA): 0.47\n",
      "Balanced Accuracy (control): 0.72\n",
      "Balanced Accuracy (svPPA): 0.58\n"
     ]
    }
   ],
   "source": [
    "# with the help of chatGPT\n",
    "from sklearn.metrics import confusion_matrix\n",
    "\n",
    "# get unique classes\n",
    "classes = df['Subtype'].unique()\n",
    "\n",
    "# initialize a dictionary to store results\n",
    "balanced_accuracy_per_class = {}\n",
    "\n",
    "# compute confusion matrix\n",
    "cm = confusion_matrix(df['Subtype'], df['PredictedLabel'], labels=classes)\n",
    "\n",
    "# calculate balanced accuracy for each class\n",
    "for idx, cls in enumerate(classes):\n",
    "    tp = cm[idx, idx]  # true positives for the class\n",
    "    fn = cm[idx, :].sum() - tp  # false negatives\n",
    "    fp = cm[:, idx].sum() - tp  # false positives\n",
    "    tn = cm.sum() - (tp + fn + fp)  # true negatives\n",
    "\n",
    "    sensitivity = tp / (tp + fn) if (tp + fn) > 0 else 0  # true positive rate\n",
    "    specificity = tn / (tn + fp) if (tn + fp) > 0 else 0  # true negative rate\n",
    "    balanced_accuracy = (sensitivity + specificity) / 2\n",
    "\n",
    "    balanced_accuracy_per_class[cls] = balanced_accuracy\n",
    "\n",
    "# Print balanced accuracy per class\n",
    "for cls, acc in balanced_accuracy_per_class.items():\n",
    "    print(f\"Balanced Accuracy ({cls}): {acc:.2f}\")"
   ]
  },
  {
   "cell_type": "code",
   "execution_count": 31,
   "id": "d9ac3a2a-9b85-40fe-9ab1-4eb6668631a6",
   "metadata": {},
   "outputs": [
    {
     "name": "stdout",
     "output_type": "stream",
     "text": [
      "F1 Score (macro): 0.11342409603279169\n",
      "Balanced Accuracy: 0.1080161570158317\n",
      "Precision (macro): 0.24\n",
      "Recall (macro): 0.08641292561266536\n",
      "\n",
      "Confusion Matrix:\n",
      "[[ 0 10 10  1  5]\n",
      " [ 0  0  0  0  0]\n",
      " [ 0  9  3  0 17]\n",
      " [ 3 13  2  2  4]\n",
      " [ 0 40  0  0 13]]\n"
     ]
    },
    {
     "name": "stderr",
     "output_type": "stream",
     "text": [
      "/home/ghofrane/anaconda3/envs/ppa/lib/python3.13/site-packages/sklearn/metrics/_classification.py:2480: UserWarning: y_pred contains classes not in y_true\n",
      "  warnings.warn(\"y_pred contains classes not in y_true\")\n"
     ]
    },
    {
     "data": {
      "image/png": "[encoded data removed]",
      "text/plain": [
       "<Figure size 640x480 with 2 Axes>"
      ]
     },
     "metadata": {},
     "output_type": "display_data"
    }
   ],
   "source": [
    "from sklearn.metrics import confusion_matrix, ConfusionMatrixDisplay\n",
    "import matplotlib.pyplot as plt\n",
    "\n",
    "true_labels = df['Subtype'] \n",
    "predicted_labels = df['PredictedLabel'] \n",
    "\n",
    "# Convert to string type\n",
    "true_labels = true_labels.astype(str)\n",
    "predicted_labels = predicted_labels.astype(str)\n",
    "\n",
    "# Compute classification metrics\n",
    "f1 = f1_score(true_labels, predicted_labels, average='macro', zero_division=0)\n",
    "balanced_acc = balanced_accuracy_score(true_labels, predicted_labels)\n",
    "precision = precision_score(true_labels, predicted_labels, average='macro', zero_division=0)\n",
    "recall = recall_score(true_labels, predicted_labels, average='macro', zero_division=0)\n",
    "\n",
    "# Print metrics\n",
    "print(\"F1 Score (macro):\", f1)\n",
    "print(\"Balanced Accuracy:\", balanced_acc)\n",
    "print(\"Precision (macro):\", precision)\n",
    "print(\"Recall (macro):\", recall)\n",
    "\n",
    "# Compute confusion matrix\n",
    "labels = list(set(true_labels).union(set(predicted_labels)))  # Include all labels, even \"Unknown\"\n",
    "conf_matrix = confusion_matrix(true_labels, predicted_labels, labels=labels)\n",
    "\n",
    "# Display the confusion matrix\n",
    "print(\"\\nConfusion Matrix:\")\n",
    "print(conf_matrix)\n",
    "\n",
    "# Plot the confusion matrix\n",
    "custom_cmap = plt.cm.viridis\n",
    "disp = ConfusionMatrixDisplay(confusion_matrix=conf_matrix, display_labels=labels)\n",
    "disp.plot(cmap=custom_cmap, values_format='d')\n",
    "plt.title(\"Confusion Matrix\")\n",
    "plt.show()\n"
   ]
  }
 ],
 "metadata": {
  "kernelspec": {
   "display_name": "Python 3 (ipykernel)",
   "language": "python",
   "name": "python3"
  },
  "language_info": {
   "codemirror_mode": {
    "name": "ipython",
    "version": 3
   },
   "file_extension": ".py",
   "mimetype": "text/x-python",
   "name": "python",
   "nbconvert_exporter": "python",
   "pygments_lexer": "ipython3",
   "version": "3.13.0"
  }
 },
 "nbformat": 4,
 "nbformat_minor": 5
}

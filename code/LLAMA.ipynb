{
 "cells": [
  {
   "metadata": {},
   "cell_type": "markdown",
   "source": [
    "## Large Language Model Experiment: Using LLaMA 3\n",
    "\n",
    "This experiment evaluates the performance of the Meta LLaMA 3 8B model on the multiclass aphasia classification task.\n",
    "\n",
    "Unlike traditional machine learning models that rely on explicit feature engineering or transformer-based classifiers trained end-to-end, LLaMA is used here in a zero-shot or few-shot setting to directly predict aphasia subtypes based on full patient utterances.\n",
    "\n",
    " The prompt design was carefully structured to include task-specific instructions and representative examples when applicable. This LLM-based evaluation complements the benchmarking study by offering insight into the capabilities of foundation models on clinical text with limited labeled data and subtle syntactic distinctions.\n"
   ],
   "id": "1e898d84aece4b7b"
  },
  {
   "metadata": {},
   "cell_type": "code",
   "outputs": [],
   "execution_count": 1,
   "source": [
    "import pandas as pd\n",
    "import io\n",
    "import os\n",
    "from transformers import pipeline\n",
    "import torch\n",
    "from sklearn.metrics import f1_score, balanced_accuracy_score, roc_auc_score, precision_score, recall_score, classification_report\n",
    "import pandas as pd"
   ],
   "id": "c8a89cf0-2cf7-4b1d-86cd-83c7b22ed58a"
  },
  {
   "cell_type": "code",
   "id": "d3128f0b-b670-487e-8974-7ce1ac8150b3",
   "metadata": {
    "ExecuteTime": {
     "end_time": "2025-05-08T08:20:28.034832Z",
     "start_time": "2025-05-08T08:20:28.032247Z"
    }
   },
   "source": "# import data here",
   "outputs": [],
   "execution_count": 1
  },
  {
   "cell_type": "code",
   "execution_count": 3,
   "id": "dc420837-4ed5-4b76-b5e3-1e3a9943ae6f",
   "metadata": {},
   "outputs": [
    {
     "data": {
      "application/vnd.jupyter.widget-view+json": {
       "model_id": "283ba032712d40adbcaacf2b9331d88e",
       "version_major": 2,
       "version_minor": 0
      },
      "text/plain": [
       "VBox(children=(HTML(value='<center> <img\\nsrc=https://huggingface.co/front/assets/huggingface_logo-noborder.sv…"
      ]
     },
     "metadata": {},
     "output_type": "display_data"
    }
   ],
   "source": [
    "from huggingface_hub import notebook_login\n",
    "notebook_login()"
   ]
  },
  {
   "cell_type": "code",
   "execution_count": 4,
   "id": "9a34f619-efa9-450e-91d4-66840bdcc658",
   "metadata": {},
   "outputs": [
    {
     "data": {
      "application/vnd.jupyter.widget-view+json": {
       "model_id": "05b3ed1ae7a04a59b9333b3d054ace18",
       "version_major": 2,
       "version_minor": 0
      },
      "text/plain": [
       "Loading checkpoint shards:   0%|          | 0/4 [00:00<?, ?it/s]"
      ]
     },
     "metadata": {},
     "output_type": "display_data"
    }
   ],
   "source": [
    "\n",
    "\n",
    "# define model ID and initialize the pipeline\n",
    "model_id = \"meta-llama/Meta-Llama-3-8B-Instruct\"\n",
    "\n",
    "pipeline = pipeline(\n",
    "    \"text-generation\",\n",
    "    model=model_id,\n",
    "    model_kwargs={\"torch_dtype\": torch.bfloat16},\n",
    "    device_map=\"auto\",\n",
    ")"
   ]
  },
  {
   "cell_type": "code",
   "execution_count": 5,
   "id": "c35c5c83-2875-4af3-aa35-fe72a644252b",
   "metadata": {},
   "outputs": [],
   "source": [
    "# define the system message for a classifier role\n",
    "system_message = {\n",
    "    \"role\": \"system\",\n",
    "    \"content\": \"\"\"You are a clinical text classifier specializing in language and speech characteristics related to Primary Progressive Aphasia (PPA). Based on the provided interview transcript of a patient, classify the text into one of the following categories:\n",
    "\n",
    "- **lvPPA**: Logopenic Variant, Characterized by word-finding difficulties and impaired repetition abilities. Patients may frequently pause or hesitate as they search for words, and they may struggle to repeat phrases accurately.\n",
    "  - **Example**: Patient might say, “I went to the… um… place where… you know, people get… books,” when trying to say \"library.\" They may also struggle to repeat phrases accurately, often omitting words or stumbling.\n",
    "- **svPPA**: Semantic Variant, Primarily affects the understanding of word meanings (semantic knowledge). Patients may struggle with naming and comprehension, even for common objects. They often resort to broad categories instead of precise words (e.g., thing instead of fork)\n",
    "  - **Example**: When shown a picture of a dog, the patient might say, “It’s an animal… I think it’s a pet,” without being able to retrieve the word \"dog.\" They may also have difficulty understanding specific terms, relying on broader descriptions.\n",
    "- **nfvPPA**: Impacts grammar and speech production, leading to slow, effortful, and agrammatic speech. Patients may omit small grammatical words (e.g., “is,” “the”) and speak in a telegraphic manner. Patients tend to use very short sentences, a rich vocabulary with low-frequency words, and more nouns compared to verbs.\n",
    "  - **Example**: The patient might say, “Walk… store… buy milk,” instead of “I’m going to walk to the store to buy milk.” Speech is often halting and labor-intensive, with noticeable pauses.\n",
    "- **control**: The individual demonstrates fluent, grammatically correct speech, free from any markers of hesitation, effortful speech, or semantic impairment. There are no indications of word-finding difficulties or grammatical errors. The individual uses both simple and complex sentences naturally and appropriately. They can express themselves clearly without notable pauses, hesitations, or substitutions. The vocabulary used is appropriate for the context, and their language comprehension and responses are cohesive.\n",
    "  - **Example**: “I’m going to walk to the store to buy some milk” or “After I finish work, I plan to go for a walk and then cook dinner.” The language is fluent, natural, and demonstrates coherent sentence-building abilities.\n",
    "Analyze the language, sentence structure, vocabulary, and speech flow within the conversational context of the interview to determine the most fitting category. Your response should include only one of the following labels: **lvPPA**, **svPPA**, **nfvPPA**, or **control**, if the text does not clearly fit into one category, analyze it carefully and suggest the most likely category based on available evidence.\"\"\"\n",
    "}\n"
   ]
  },
  {
   "metadata": {},
   "cell_type": "code",
   "outputs": [],
   "execution_count": null,
   "source": [
    "def classify_text(text):\n",
    "    messages = [\n",
    "        system_message,\n",
    "        {\"role\": \"user\", \"content\": f\"Classify this text: {text}\"}\n",
    "    ]\n",
    "\n",
    "    # use a single EOS token ID\n",
    "    eos_token_id = pipeline.tokenizer.eos_token_id\n",
    "\n",
    "    # run the classification\n",
    "    output = pipeline(\n",
    "        messages,\n",
    "        max_new_tokens=150,\n",
    "        eos_token_id=eos_token_id,\n",
    "        do_sample=True,\n",
    "        temperature=0.2,\n",
    "        top_p=0.9,\n",
    "    )\n",
    "\n",
    "    # print raw output for debugging\n",
    "    print(\"Raw Output:\", output)\n",
    "\n",
    "    # extract the generated label\n",
    "    try:\n",
    "        # extract assistant content\n",
    "        assistant_content = output[0][\"generated_text\"][-1][\"content\"]\n",
    "\n",
    "\n",
    "        print(\"Assistant Content:\", assistant_content)\n",
    "\n",
    "        # parse the label\n",
    "        label = \"Unknown\"  # default value\n",
    "        if \"**\" in assistant_content:\n",
    "            parts = assistant_content.split(\"**\")\n",
    "            if len(parts) > 1:\n",
    "                label = parts[1].strip().split()[0]\n",
    "    except (IndexError, KeyError, TypeError) as e:\n",
    "        print(f\"Error extracting label: {e}\")\n",
    "\n",
    "    return label\n",
    "\n",
    "\n",
    "text_data = \"\"\" example text\n",
    "\"\"\"\n",
    "\n",
    "label = classify_text(text_data)\n",
    "print(\"Predicted label:\", label)"
   ],
   "id": "97df9f8bac392522"
  },
  {
   "metadata": {},
   "cell_type": "code",
   "outputs": [],
   "execution_count": null,
   "source": "df['PredictedLabel'] = df['Text'].apply(lambda text: classify_text(text))",
   "id": "84dec2900d65e3fa"
  },
  {
   "cell_type": "code",
   "execution_count": 8,
   "id": "59035949-d58c-473e-b228-8d81fb2ce5e3",
   "metadata": {},
   "outputs": [
    {
     "data": {
      "text/plain": [
       "array(['svPPA', 'lvPPA', 'nfvPPA', 'control'], dtype=object)"
      ]
     },
     "execution_count": 8,
     "metadata": {},
     "output_type": "execute_result"
    }
   ],
   "source": [
    "y_pred = df['PredictedLabel']\n",
    "y_pred.unique()\n"
   ]
  },
  {
   "cell_type": "code",
   "execution_count": 9,
   "id": "9eba6a7f-cc5a-4eb4-bef9-611356707965",
   "metadata": {},
   "outputs": [
    {
     "name": "stdout",
     "output_type": "stream",
     "text": [
      "PredictedLabel\n",
      "lvPPA      64\n",
      "control    49\n",
      "svPPA      12\n",
      "nfvPPA      7\n",
      "Name: count, dtype: int64\n"
     ]
    }
   ],
   "source": [
    "print(df['PredictedLabel'].value_counts())"
   ]
  },
  {
   "cell_type": "code",
   "execution_count": 11,
   "id": "3c6c09f1-a6d7-4d67-b0bd-ba4887e8d985",
   "metadata": {},
   "outputs": [
    {
     "name": "stdout",
     "output_type": "stream",
     "text": [
      "Subtype\n",
      "control    53\n",
      "nfvPPA     29\n",
      "lvPPA      26\n",
      "svPPA      24\n",
      "Name: count, dtype: int64\n"
     ]
    }
   ],
   "source": [
    "print(df['Subtype'].value_counts())"
   ]
  },
  {
   "cell_type": "code",
   "execution_count": 13,
   "id": "20d50a81-5200-4cbe-83b7-b1514e1afd9f",
   "metadata": {},
   "outputs": [
    {
     "name": "stdout",
     "output_type": "stream",
     "text": [
      "F1 Score (weighted): 0.45915032679738566\n",
      "Balanced Accuracy: 0.4201866773434763\n",
      "Precision (weighted): 0.5230558132343845\n",
      "Recall (weighted): 0.49242424242424243\n"
     ]
    }
   ],
   "source": [
    "true_labels = df['Subtype']\n",
    "predicted_labels = df['PredictedLabel']  \n",
    "\n",
    "true_labels = true_labels.astype(str)\n",
    "predicted_labels = predicted_labels.astype(str)\n",
    "\n",
    "# Compute F1-score (macro-averaged)\n",
    "f1 = f1_score(true_labels, predicted_labels, average='weighted')\n",
    "\n",
    "# Compute balanced accuracy\n",
    "balanced_acc = balanced_accuracy_score(true_labels, predicted_labels)\n",
    "\n",
    "# Compute precision (macro-averaged)\n",
    "precision = precision_score(true_labels, predicted_labels, average='weighted')\n",
    "\n",
    "# Compute recall (macro-averaged)\n",
    "recall = recall_score(true_labels, predicted_labels, average='weighted')\n",
    "\n",
    "# Print results\n",
    "print(\"F1 Score (weighted):\", f1)\n",
    "print(\"Balanced Accuracy:\", balanced_acc)\n",
    "print(\"Precision (weighted):\", precision)\n",
    "print(\"Recall (weighted):\", recall)\n"
   ]
  },
  {
   "cell_type": "code",
   "execution_count": 39,
   "id": "71a2f2b9-b465-4e96-9e1a-10d6492dd8bf",
   "metadata": {},
   "outputs": [
    {
     "name": "stdout",
     "output_type": "stream",
     "text": [
      "Balanced Accuracy (nfvPPA): 0.57\n",
      "Balanced Accuracy (lvPPA): 0.66\n",
      "Balanced Accuracy (control): 0.84\n",
      "Balanced Accuracy (svPPA): 0.45\n"
     ]
    }
   ],
   "source": [
    "# with help of chatGPT\n",
    "from sklearn.metrics import confusion_matrix\n",
    "\n",
    "# get unique classes\n",
    "classes = df['Subtype'].unique()\n",
    "\n",
    "# initialize a dictionary to store results\n",
    "balanced_accuracy_per_class = {}\n",
    "\n",
    "# compute confusion matrix\n",
    "cm = confusion_matrix(df['Subtype'], df['PredictedLabel'], labels=classes)\n",
    "\n",
    "# calculate balanced accuracy for each class\n",
    "for idx, cls in enumerate(classes):\n",
    "    tp = cm[idx, idx]  # true positives for the class\n",
    "    fn = cm[idx, :].sum() - tp  # false negatives\n",
    "    fp = cm[:, idx].sum() - tp  # false positives\n",
    "    tn = cm.sum() - (tp + fn + fp)  # true negatives\n",
    "\n",
    "    sensitivity = tp / (tp + fn) if (tp + fn) > 0 else 0  # true positive rate\n",
    "    specificity = tn / (tn + fp) if (tn + fp) > 0 else 0  # true negative rate\n",
    "    balanced_accuracy = (sensitivity + specificity) / 2\n",
    "\n",
    "    balanced_accuracy_per_class[cls] = balanced_accuracy\n",
    "\n",
    "# print balanced accuracy per class\n",
    "for cls, acc in balanced_accuracy_per_class.items():\n",
    "    print(f\"Balanced Accuracy ({cls}): {acc:.2f}\")\n",
    "\n"
   ]
  },
  {
   "cell_type": "markdown",
   "id": "c2d2942e-ae5e-4035-ac52-8883ec5384e4",
   "metadata": {},
   "source": "#### AUC computation requires probablistic outputs and not just labels, which we do not have in our case, so we will skip it."
  },
  {
   "cell_type": "code",
   "execution_count": 42,
   "id": "3e2ad952-4e1d-4122-8949-2b34e69e9ce1",
   "metadata": {},
   "outputs": [
    {
     "data": {
      "image/png": "[encoded data removed]",
      "text/plain": [
       "<Figure size 640x480 with 2 Axes>"
      ]
     },
     "metadata": {},
     "output_type": "display_data"
    }
   ],
   "source": [
    "from sklearn.metrics import confusion_matrix, ConfusionMatrixDisplay\n",
    "import matplotlib.pyplot as plt\n",
    "\n",
    "true_labels = df['Subtype'] \n",
    "predicted_labels = df['PredictedLabel'] \n",
    "\n",
    "# Define the unique classes (ensure they match both true and predicted labels)\n",
    "classes = sorted(df['Subtype'].unique())\n",
    "\n",
    "# Generate confusion matrix\n",
    "cm = confusion_matrix(true_labels, predicted_labels, labels=classes)\n",
    "\n",
    "# Display confusion matrix\n",
    "disp = ConfusionMatrixDisplay(confusion_matrix=cm, display_labels=classes)\n",
    "disp.plot(cmap='viridis', xticks_rotation=45)\n",
    "\n",
    "plt.title(\"Confusion Matrix\")\n",
    "plt.show()\n"
   ]
  },
  {
   "cell_type": "code",
   "execution_count": null,
   "id": "f1e901f2-bcad-48f9-a12d-e95f625f2694",
   "metadata": {},
   "outputs": [],
   "source": []
  }
 ],
 "metadata": {
  "kernelspec": {
   "display_name": "Python 3 (ipykernel)",
   "language": "python",
   "name": "python3"
  },
  "language_info": {
   "codemirror_mode": {
    "name": "ipython",
    "version": 3
   },
   "file_extension": ".py",
   "mimetype": "text/x-python",
   "name": "python",
   "nbconvert_exporter": "python",
   "pygments_lexer": "ipython3",
   "version": "3.13.0"
  }
 },
 "nbformat": 4,
 "nbformat_minor": 5
}
